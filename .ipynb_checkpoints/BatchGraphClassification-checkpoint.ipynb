{
 "cells": [
  {
   "cell_type": "code",
   "execution_count": 1,
   "metadata": {},
   "outputs": [
    {
     "name": "stderr",
     "output_type": "stream",
     "text": [
      "/usr/local/anaconda3/envs/czh/lib/python3.6/site-packages/networkx/drawing/nx_pylab.py:579: MatplotlibDeprecationWarning: \n",
      "The iterable function was deprecated in Matplotlib 3.1 and will be removed in 3.3. Use np.iterable instead.\n",
      "  if not cb.iterable(width):\n",
      "/usr/local/anaconda3/envs/czh/lib/python3.6/site-packages/networkx/drawing/nx_pylab.py:676: MatplotlibDeprecationWarning: \n",
      "The iterable function was deprecated in Matplotlib 3.1 and will be removed in 3.3. Use np.iterable instead.\n",
      "  if cb.iterable(node_size):  # many node sizes\n"
     ]
    },
    {
     "data": {
      "image/png": "[encoded data removed]",
      "text/plain": [
       "<Figure size 432x288 with 1 Axes>"
      ]
     },
     "metadata": {},
     "output_type": "display_data"
    }
   ],
   "source": [
    "from dgl.data import MiniGCDataset\n",
    "import matplotlib.pyplot as plt\n",
    "import networkx as nx\n",
    "%matplotlib inline\n",
    "\n",
    "dataset = MiniGCDataset(80, 10, 20)\n",
    "graph, label = dataset[0]\n",
    "fig, ax = plt.subplots()\n",
    "nx.draw(graph.to_networkx(), ax=ax)\n",
    "ax.set_title('Class: {:d}'.format(label))\n",
    "plt.show()"
   ]
  },
  {
   "cell_type": "code",
   "execution_count": 2,
   "metadata": {},
   "outputs": [],
   "source": [
    "import dgl\n",
    "import torch\n",
    "def collate(samples):\n",
    "    graphs, labels = map(list, zip(*samples))\n",
    "    batched_graph = dgl.batch(graphs)\n",
    "    return batched_graph, torch.tensor(labels)"
   ]
  },
  {
   "cell_type": "code",
   "execution_count": 3,
   "metadata": {},
   "outputs": [],
   "source": [
    "import dgl.function as fn\n",
    "import torch\n",
    "import torch.nn as nn\n",
    "\n",
    "msg = fn.copy_src(src='h', out='m')\n",
    "\n",
    "def reduce(nodes):\n",
    "    accum = torch.mean(nodes.mailbox['m'], 1)\n",
    "    return {'h': accum}\n",
    "\n",
    "class NodeApplyModule(nn.Module):\n",
    "    def __init__(self, in_feats, out_feats, activation):\n",
    "        super().__init__()\n",
    "        self.linear = nn.Linear(in_feats, out_feats)\n",
    "        self.activation = activation\n",
    "        \n",
    "    def forward(self, node):\n",
    "        h = self.linear(node.data['h'])\n",
    "        h = self.activation(h)\n",
    "        return {'h': h}\n",
    "    \n",
    "class GCN(nn.Module):\n",
    "    def __init__(self, in_feats, out_feats, activation):\n",
    "        super().__init__()\n",
    "        self.apply_mod = NodeApplyModule(in_feats, out_feats, activation)\n",
    "        \n",
    "    def forward(self, g, feature):\n",
    "        g.ndata['h'] = feature\n",
    "        g.update_all(msg, reduce)\n",
    "        g.apply_nodes(func=self.apply_mod)\n",
    "        return g.ndata.pop('h')"
   ]
  },
  {
   "cell_type": "code",
   "execution_count": 4,
   "metadata": {},
   "outputs": [],
   "source": [
    "import torch.nn.functional as F\n",
    "\n",
    "class Classifier(nn.Module):\n",
    "    def __init__(self, in_dim, hidden_dim, n_classes):\n",
    "        super().__init__()\n",
    "        self.layers = nn.ModuleList([\n",
    "            GCN(in_dim, hidden_dim, F.relu),\n",
    "            GCN(hidden_dim, hidden_dim, F.relu)\n",
    "        ])\n",
    "        self.classify = nn.Linear(hidden_dim, n_classes)\n",
    "        \n",
    "    def forward(self, g):\n",
    "        h = g.in_degrees().view(-1, 1).float()\n",
    "        for conv in self.layers:\n",
    "            h = conv(g, h)\n",
    "        g.ndata['h'] = h\n",
    "        hg = dgl.mean_nodes(g, 'h')\n",
    "        return self.classify(hg)"
   ]
  },
  {
   "cell_type": "code",
   "execution_count": 5,
   "metadata": {},
   "outputs": [
    {
     "data": {
      "text/plain": [
       "Classifier(\n",
       "  (layers): ModuleList(\n",
       "    (0): GCN(\n",
       "      (apply_mod): NodeApplyModule(\n",
       "        (linear): Linear(in_features=1, out_features=512, bias=True)\n",
       "      )\n",
       "    )\n",
       "    (1): GCN(\n",
       "      (apply_mod): NodeApplyModule(\n",
       "        (linear): Linear(in_features=512, out_features=512, bias=True)\n",
       "      )\n",
       "    )\n",
       "  )\n",
       "  (classify): Linear(in_features=512, out_features=8, bias=True)\n",
       ")"
      ]
     },
     "execution_count": 5,
     "metadata": {},
     "output_type": "execute_result"
    }
   ],
   "source": [
    "import torch.optim as optim\n",
    "from torch.utils.data import DataLoader\n",
    "\n",
    "trainset = MiniGCDataset(320, 10, 20)\n",
    "testset = MiniGCDataset(80, 10, 20)\n",
    "data_loader = DataLoader(trainset, batch_size=32, shuffle=True, collate_fn=collate)\n",
    "\n",
    "model = Classifier(1, 512, trainset.num_classes)\n",
    "loss_func = nn.CrossEntropyLoss()\n",
    "optimizer = optim.Adam(model.parameters(), lr=0.001)\n",
    "model.train()"
   ]
  },
  {
   "cell_type": "code",
   "execution_count": 6,
   "metadata": {},
   "outputs": [
    {
     "name": "stderr",
     "output_type": "stream",
     "text": [
      "/usr/local/anaconda3/envs/czh/lib/python3.6/site-packages/dgl/base.py:18: UserWarning: Initializer is not set. Use zero initializer instead. To suppress this warning, use `set_initializer` to explicitly specify which initializer to use.\n",
      "  warnings.warn(msg)\n"
     ]
    },
    {
     "name": "stdout",
     "output_type": "stream",
     "text": [
      "Epoch 0, loss 2.3636\n",
      "Epoch 1, loss 1.9601\n",
      "Epoch 2, loss 1.8686\n",
      "Epoch 3, loss 1.7550\n",
      "Epoch 4, loss 1.6312\n",
      "Epoch 5, loss 1.5806\n",
      "Epoch 6, loss 1.4773\n",
      "Epoch 7, loss 1.4287\n",
      "Epoch 8, loss 1.3242\n",
      "Epoch 9, loss 1.2554\n",
      "Epoch 10, loss 1.2093\n",
      "Epoch 11, loss 1.2010\n",
      "Epoch 12, loss 1.1310\n",
      "Epoch 13, loss 1.0909\n",
      "Epoch 14, loss 1.0351\n",
      "Epoch 15, loss 1.0096\n",
      "Epoch 16, loss 0.9971\n",
      "Epoch 17, loss 0.9911\n",
      "Epoch 18, loss 0.9837\n",
      "Epoch 19, loss 0.9227\n",
      "Epoch 20, loss 0.9197\n",
      "Epoch 21, loss 0.9071\n",
      "Epoch 22, loss 0.8958\n",
      "Epoch 23, loss 0.8965\n",
      "Epoch 24, loss 0.8501\n",
      "Epoch 25, loss 0.8489\n",
      "Epoch 26, loss 0.8055\n",
      "Epoch 27, loss 0.8147\n",
      "Epoch 28, loss 0.7961\n",
      "Epoch 29, loss 0.8143\n",
      "Epoch 30, loss 0.7740\n",
      "Epoch 31, loss 0.7843\n",
      "Epoch 32, loss 0.7868\n",
      "Epoch 33, loss 0.7822\n",
      "Epoch 34, loss 0.7910\n",
      "Epoch 35, loss 0.7311\n",
      "Epoch 36, loss 0.7575\n",
      "Epoch 37, loss 0.7418\n",
      "Epoch 38, loss 0.7767\n",
      "Epoch 39, loss 0.6873\n",
      "Epoch 40, loss 0.6673\n",
      "Epoch 41, loss 0.6645\n",
      "Epoch 42, loss 0.6768\n",
      "Epoch 43, loss 0.6995\n",
      "Epoch 44, loss 0.6945\n",
      "Epoch 45, loss 0.6408\n",
      "Epoch 46, loss 0.6369\n",
      "Epoch 47, loss 0.6248\n",
      "Epoch 48, loss 0.6202\n",
      "Epoch 49, loss 0.5889\n",
      "Epoch 50, loss 0.5824\n",
      "Epoch 51, loss 0.6430\n",
      "Epoch 52, loss 0.6056\n",
      "Epoch 53, loss 0.5733\n",
      "Epoch 54, loss 0.5562\n",
      "Epoch 55, loss 0.5648\n",
      "Epoch 56, loss 0.5522\n",
      "Epoch 57, loss 0.6051\n",
      "Epoch 58, loss 0.6168\n",
      "Epoch 59, loss 0.6344\n",
      "Epoch 60, loss 0.5583\n",
      "Epoch 61, loss 0.5074\n",
      "Epoch 62, loss 0.5120\n",
      "Epoch 63, loss 0.4984\n",
      "Epoch 64, loss 0.5172\n",
      "Epoch 65, loss 0.4966\n",
      "Epoch 66, loss 0.5172\n",
      "Epoch 67, loss 0.4881\n",
      "Epoch 68, loss 0.5036\n",
      "Epoch 69, loss 0.4521\n",
      "Epoch 70, loss 0.4660\n",
      "Epoch 71, loss 0.4502\n",
      "Epoch 72, loss 0.4296\n",
      "Epoch 73, loss 0.4306\n",
      "Epoch 74, loss 0.4354\n",
      "Epoch 75, loss 0.4093\n",
      "Epoch 76, loss 0.4163\n",
      "Epoch 77, loss 0.3996\n",
      "Epoch 78, loss 0.4159\n",
      "Epoch 79, loss 0.4260\n",
      "Epoch 80, loss 0.4032\n",
      "Epoch 81, loss 0.3952\n",
      "Epoch 82, loss 0.4397\n",
      "Epoch 83, loss 0.4388\n",
      "Epoch 84, loss 0.4247\n",
      "Epoch 85, loss 0.4060\n",
      "Epoch 86, loss 0.4481\n",
      "Epoch 87, loss 0.4105\n",
      "Epoch 88, loss 0.3702\n",
      "Epoch 89, loss 0.3607\n",
      "Epoch 90, loss 0.3752\n",
      "Epoch 91, loss 0.3967\n",
      "Epoch 92, loss 0.3565\n",
      "Epoch 93, loss 0.3452\n",
      "Epoch 94, loss 0.3320\n",
      "Epoch 95, loss 0.3381\n",
      "Epoch 96, loss 0.3572\n",
      "Epoch 97, loss 0.3363\n",
      "Epoch 98, loss 0.3253\n",
      "Epoch 99, loss 0.3397\n",
      "Epoch 100, loss 0.3288\n",
      "Epoch 101, loss 0.3272\n",
      "Epoch 102, loss 0.3224\n",
      "Epoch 103, loss 0.3228\n",
      "Epoch 104, loss 0.3071\n",
      "Epoch 105, loss 0.3286\n",
      "Epoch 106, loss 0.3308\n",
      "Epoch 107, loss 0.3089\n",
      "Epoch 108, loss 0.3062\n",
      "Epoch 109, loss 0.3069\n",
      "Epoch 110, loss 0.3349\n",
      "Epoch 111, loss 0.3540\n",
      "Epoch 112, loss 0.3225\n",
      "Epoch 113, loss 0.3132\n",
      "Epoch 114, loss 0.3165\n",
      "Epoch 115, loss 0.3208\n",
      "Epoch 116, loss 0.3141\n",
      "Epoch 117, loss 0.3100\n",
      "Epoch 118, loss 0.3183\n",
      "Epoch 119, loss 0.3042\n",
      "Epoch 120, loss 0.3076\n",
      "Epoch 121, loss 0.3812\n",
      "Epoch 122, loss 0.3845\n",
      "Epoch 123, loss 0.3473\n",
      "Epoch 124, loss 0.3049\n",
      "Epoch 125, loss 0.3047\n",
      "Epoch 126, loss 0.3093\n",
      "Epoch 127, loss 0.2845\n",
      "Epoch 128, loss 0.2960\n",
      "Epoch 129, loss 0.2835\n",
      "Epoch 130, loss 0.2718\n",
      "Epoch 131, loss 0.2918\n",
      "Epoch 132, loss 0.2894\n",
      "Epoch 133, loss 0.2924\n",
      "Epoch 134, loss 0.2851\n",
      "Epoch 135, loss 0.2922\n",
      "Epoch 136, loss 0.2850\n",
      "Epoch 137, loss 0.2929\n",
      "Epoch 138, loss 0.2696\n",
      "Epoch 139, loss 0.2823\n",
      "Epoch 140, loss 0.2969\n",
      "Epoch 141, loss 0.2972\n",
      "Epoch 142, loss 0.2822\n",
      "Epoch 143, loss 0.2750\n",
      "Epoch 144, loss 0.2771\n",
      "Epoch 145, loss 0.2627\n",
      "Epoch 146, loss 0.3060\n",
      "Epoch 147, loss 0.3501\n",
      "Epoch 148, loss 0.2998\n",
      "Epoch 149, loss 0.2765\n"
     ]
    }
   ],
   "source": [
    "epoch_losses = []\n",
    "for epoch in range(150):\n",
    "    epoch_loss = 0\n",
    "    for iter, (bg, label) in enumerate(data_loader):\n",
    "        prediction = model(bg)\n",
    "        loss = loss_func(prediction, label)\n",
    "        optimizer.zero_grad()\n",
    "        loss.backward()\n",
    "        optimizer.step()\n",
    "        epoch_loss += loss.detach().item()\n",
    "    epoch_loss /= (iter + 1)\n",
    "    print(\"Epoch %d, loss %.4f\" % (epoch, epoch_loss))\n",
    "    epoch_losses.append(epoch_loss)"
   ]
  },
  {
   "cell_type": "code",
   "execution_count": 7,
   "metadata": {},
   "outputs": [
    {
     "data": {
      "image/png": "[encoded data removed]",
      "text/plain": [
       "<Figure size 432x288 with 1 Axes>"
      ]
     },
     "metadata": {
      "needs_background": "light"
     },
     "output_type": "display_data"
    }
   ],
   "source": [
    "plt.title('cross entropy averaged over minibatches')\n",
    "plt.plot(epoch_losses)\n",
    "plt.show()"
   ]
  },
  {
   "cell_type": "code",
   "execution_count": 8,
   "metadata": {},
   "outputs": [
    {
     "name": "stdout",
     "output_type": "stream",
     "text": [
      "Accuracy of sampled predictions on the test set: 80.0000%\n",
      "Accuracy of argmax predictions on the test set: 87.500000%\n"
     ]
    }
   ],
   "source": [
    "model.eval()\n",
    "test_X, test_Y = map(list, zip(*testset))\n",
    "test_bg = dgl.batch(test_X)\n",
    "test_Y = torch.tensor(test_Y).float().view(-1, 1)\n",
    "probs_Y = torch.softmax(model(test_bg), 1)\n",
    "sampled_Y = torch.multinomial(probs_Y, 1)\n",
    "argmax_Y = torch.max(probs_Y, 1)[1].view(-1, 1)\n",
    "print('Accuracy of sampled predictions on the test set: {:.4f}%'.format(\n",
    "    (test_Y == sampled_Y.float()).sum().item() / len(test_Y) * 100))\n",
    "print('Accuracy of argmax predictions on the test set: {:4f}%'.format(\n",
    "    (test_Y == argmax_Y.float()).sum().item() / len(test_Y) * 100))"
   ]
  },
  {
   "cell_type": "code",
   "execution_count": null,
   "metadata": {},
   "outputs": [],
   "source": []
  }
 ],
 "metadata": {
  "kernelspec": {
   "display_name": "Python 3",
   "language": "python",
   "name": "python3"
  },
  "language_info": {
   "codemirror_mode": {
    "name": "ipython",
    "version": 3
   },
   "file_extension": ".py",
   "mimetype": "text/x-python",
   "name": "python",
   "nbconvert_exporter": "python",
   "pygments_lexer": "ipython3",
   "version": "3.6.8"
  }
 },
 "nbformat": 4,
 "nbformat_minor": 2
}
